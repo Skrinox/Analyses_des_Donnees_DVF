{
 "cells": [
  {
   "metadata": {},
   "cell_type": "markdown",
   "source": "# Analyse des données de Demandes de Valeurs Foncières (DVF)",
   "id": "e7008dc05e2c5d7c"
  },
  {
   "metadata": {},
   "cell_type": "markdown",
   "source": "#### Importation des modules",
   "id": "d17342e2b8eec2a3"
  },
  {
   "metadata": {},
   "cell_type": "code",
   "outputs": [],
   "execution_count": null,
   "source": "import pandas as pd",
   "id": "7d2e0e914ca1aee5"
  },
  {
   "metadata": {},
   "cell_type": "markdown",
   "source": "#### Récupération des données",
   "id": "9956c1206ef83bfb"
  },
  {
   "cell_type": "code",
   "execution_count": null,
   "id": "initial_id",
   "metadata": {
    "collapsed": true
   },
   "outputs": [],
   "source": [
    "url = 'https://static.data.gouv.fr/resources/demandes-de-valeurs-foncieres/20240408-125738/valeursfoncieres-2023.txt'\n",
    "df = pd.read_csv(url, sep='|', low_memory=False).dropna(axis=1, how='all')\n",
    "df"
   ]
  },
  {
   "metadata": {},
   "cell_type": "markdown",
   "source": "#### Préparation des données",
   "id": "16cc169b1f2cec0f"
  },
  {
   "metadata": {},
   "cell_type": "code",
   "outputs": [],
   "execution_count": null,
   "source": [
    "# Récupérer les Dates de mutation\n",
    "df_Dates = pd.to_datetime(df['Date mutation'])"
   ],
   "id": "4370b8c74ee4df9c"
  }
 ],
 "metadata": {
  "kernelspec": {
   "display_name": "Python 3",
   "language": "python",
   "name": "python3"
  },
  "language_info": {
   "codemirror_mode": {
    "name": "ipython",
    "version": 2
   },
   "file_extension": ".py",
   "mimetype": "text/x-python",
   "name": "python",
   "nbconvert_exporter": "python",
   "pygments_lexer": "ipython2",
   "version": "2.7.6"
  }
 },
 "nbformat": 4,
 "nbformat_minor": 5
}
